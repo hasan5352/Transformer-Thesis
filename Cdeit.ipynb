{
 "cells": [
  {
   "cell_type": "code",
   "execution_count": 1,
   "id": "a1cbc59a",
   "metadata": {},
   "outputs": [],
   "source": [
    "import torch\n",
    "import torch.nn as nn\n",
    "import torch.nn.functional as F\n",
    "import torch.optim as optim\n",
    "import numpy as np\n",
    "import random\n",
    "from torch.utils.data import DataLoader, TensorDataset\n",
    "import torchvision\n",
    "import torchvision.transforms as T\n",
    "import os\n",
    "import timm\n",
    "\n",
    "from train_test_module import MyAugments, LossCalculatorCdeiT, TrainTestCdeiT\n",
    "\n",
    "%load_ext autoreload\n",
    "%autoreload 2"
   ]
  },
  {
   "cell_type": "code",
   "execution_count": 2,
   "id": "1ade0152",
   "metadata": {},
   "outputs": [],
   "source": [
    "# setting seed \n",
    "torch.cuda.manual_seed(22)\n",
    "random.seed(22)\n",
    "torch.manual_seed(22)\n",
    "\n",
    "device = \"cuda\" if torch.cuda.is_available() else \"cpu\"\n",
    "\n",
    "corrupt_types = [\"brightness\", \"defocus_blur\", \"zoom_blur\", \"motion_blur\", \"fog\", \"frost\", \"snow\", \"shot_noise\", \"gaussian_noise\", \"jpeg_compression\"]\n",
    "\n",
    "# Hyper-parameters\n",
    "PATCH_SIZE = 4\n",
    "IMG_SIZE = 32\n",
    "EMBED_DIM = 192\n",
    "NUM_HEADS = 3\n",
    "NUM_ENCODERS = 12\n",
    "\n",
    "NUM_IMG_TYPES = len(corrupt_types)+1\n",
    "NUM_CLASSES = 10\n",
    "DROPOUT = 0\n",
    "DROP_PATH = 0.1\n",
    "\n",
    "ERASE_P = 0.25\n",
    "RANDAUG_P = 0.5\n",
    "MIXUP_P = 0.3\n",
    "CUTMIX_P = 0.5\n",
    "\n",
    "BATCH_SIZE = 1024\n",
    "NUM_EPOCHS = 50\n",
    "WARMUP_EPOCHS = 3"
   ]
  },
  {
   "cell_type": "code",
   "execution_count": 3,
   "id": "ac401a61",
   "metadata": {},
   "outputs": [
    {
     "name": "stderr",
     "output_type": "stream",
     "text": [
      "/tmp/ipykernel_3482/3210665562.py:8: FutureWarning: You are using `torch.load` with `weights_only=False` (the current default value), which uses the default pickle module implicitly. It is possible to construct malicious pickle data which will execute arbitrary code during unpickling (See https://github.com/pytorch/pytorch/blob/main/SECURITY.md#untrusted-models for more details). In a future release, the default value for `weights_only` will be flipped to `True`. This limits the functions that could be executed during unpickling. Arbitrary objects will no longer be allowed to be loaded via this mode unless they are explicitly allowlisted by the user via `torch.serialization.add_safe_globals`. We recommend you start setting `weights_only=True` for any use case where you don't have full control of the loaded file. Please open an issue on GitHub for any issues related to this experimental feature.\n",
      "  deit3_teacher.load_state_dict(torch.load(\"deit3HEAD_all0.pth\"))\n"
     ]
    },
    {
     "data": {
      "text/plain": [
       "<All keys matched successfully>"
      ]
     },
     "execution_count": 3,
     "metadata": {},
     "output_type": "execute_result"
    }
   ],
   "source": [
    "train_loader = DataLoader(dataset=TensorDataset(*torch.load(\"train_cifar10.pt\", weights_only=True)), \n",
    "                                 batch_size=BATCH_SIZE, shuffle=True)\n",
    "test_loader = DataLoader(dataset=TensorDataset(*torch.load(\"test_cifar10.pt\", weights_only=True)), \n",
    "                                 batch_size=BATCH_SIZE, shuffle=False)\n",
    "\n",
    "deit3_teacher = timm.create_model('deit3_small_patch16_224').cuda()\n",
    "deit3_teacher.head = nn.Linear(in_features=384, out_features=NUM_CLASSES, bias=True).cuda()\n",
    "deit3_teacher.load_state_dict(torch.load(\"deit3HEAD_all0.pth\"))"
   ]
  },
  {
   "cell_type": "markdown",
   "id": "45c633e8",
   "metadata": {},
   "source": [
    "# Experiments"
   ]
  },
  {
   "cell_type": "code",
   "execution_count": 4,
   "id": "3adccbb5",
   "metadata": {},
   "outputs": [],
   "source": [
    "lr = 0.0005  * BATCH_SIZE/512"
   ]
  },
  {
   "cell_type": "code",
   "execution_count": 5,
   "id": "b3dde701",
   "metadata": {},
   "outputs": [
    {
     "name": "stderr",
     "output_type": "stream",
     "text": [
      "/venv/main/lib/python3.10/site-packages/timm/models/layers/__init__.py:48: FutureWarning: Importing from timm.models.layers is deprecated, please import via timm.layers\n",
      "  warnings.warn(f\"Importing from {__name__} is deprecated, please import via timm.layers\", FutureWarning)\n"
     ]
    },
    {
     "name": "stdout",
     "output_type": "stream",
     "text": [
      "------- Epoch 1 -------\n",
      "train-loss: 2.328 -- train-acc: 0.151 -- test-loss: 2.214 -- test-acc: 0.207\n",
      "Best model saved to cdeit_softDistill.pth\n",
      "------- Epoch 2 -------\n",
      "train-loss: 1.940 -- train-acc: 0.441 -- test-loss: 1.352 -- test-acc: 0.588\n",
      "Best model saved to cdeit_softDistill.pth\n",
      "------- Epoch 3 -------\n"
     ]
    },
    {
     "name": "stderr",
     "output_type": "stream",
     "text": [
      "/venv/main/lib/python3.10/site-packages/torch/optim/lr_scheduler.py:240: UserWarning: The epoch parameter in `scheduler.step()` was not necessary and is being deprecated where possible. Please use `scheduler.step()` to step the scheduler. During the deprecation, if epoch is different from None, the closed form is used instead of the new chainable form, where available. Please open an issue if you are unable to replicate your use case: https://github.com/pytorch/pytorch/issues/new/choose.\n",
      "  warnings.warn(EPOCH_DEPRECATION_WARNING, UserWarning)\n"
     ]
    },
    {
     "name": "stdout",
     "output_type": "stream",
     "text": [
      "train-loss: 1.673 -- train-acc: 0.599 -- test-loss: 0.992 -- test-acc: 0.771\n",
      "Best model saved to cdeit_softDistill.pth\n",
      "------- Epoch 4 -------\n",
      "train-loss: 1.521 -- train-acc: 0.689 -- test-loss: 0.805 -- test-acc: 0.868\n",
      "Best model saved to cdeit_softDistill.pth\n",
      "------- Epoch 5 -------\n",
      "train-loss: 1.341 -- train-acc: 0.794 -- test-loss: 0.831 -- test-acc: 0.888\n",
      "------- Epoch 6 -------\n",
      "train-loss: 1.252 -- train-acc: 0.833 -- test-loss: 0.839 -- test-acc: 0.930\n",
      "------- Epoch 7 -------\n",
      "train-loss: 1.153 -- train-acc: 0.853 -- test-loss: 0.522 -- test-acc: 0.943\n",
      "Best model saved to cdeit_softDistill.pth\n",
      "------- Epoch 8 -------\n",
      "train-loss: 1.110 -- train-acc: 0.883 -- test-loss: 0.592 -- test-acc: 0.955\n",
      "------- Epoch 9 -------\n",
      "train-loss: 1.043 -- train-acc: 0.891 -- test-loss: 0.523 -- test-acc: 0.956\n",
      "------- Epoch 10 -------\n",
      "train-loss: 1.042 -- train-acc: 0.894 -- test-loss: 0.713 -- test-acc: 0.963\n",
      "------- Epoch 11 -------\n",
      "train-loss: 1.011 -- train-acc: 0.899 -- test-loss: 0.538 -- test-acc: 0.964\n",
      "------- Epoch 12 -------\n",
      "train-loss: 1.067 -- train-acc: 0.893 -- test-loss: 0.434 -- test-acc: 0.962\n",
      "Best model saved to cdeit_softDistill.pth\n",
      "------- Epoch 13 -------\n",
      "train-loss: 1.034 -- train-acc: 0.907 -- test-loss: 0.473 -- test-acc: 0.967\n",
      "------- Epoch 14 -------\n",
      "train-loss: 1.038 -- train-acc: 0.906 -- test-loss: 0.519 -- test-acc: 0.962\n",
      "------- Epoch 15 -------\n",
      "train-loss: 1.002 -- train-acc: 0.909 -- test-loss: 0.413 -- test-acc: 0.967\n",
      "Best model saved to cdeit_softDistill.pth\n",
      "metrics saved!\n"
     ]
    }
   ],
   "source": [
    "from my_transformers import CorruptDistillVisionTransformer\n",
    "HEAD_STRATEGY = 3\n",
    "cdeit_tiny = CorruptDistillVisionTransformer(\n",
    "    EMBED_DIM, IMG_SIZE, PATCH_SIZE, NUM_CLASSES, attention_heads=NUM_HEADS,\n",
    "    num_encoders=NUM_ENCODERS, dropout=0, drop_path=0.1, \n",
    "    num_img_types=NUM_IMG_TYPES, head_strategy=HEAD_STRATEGY\n",
    "    ).to(device)\n",
    "\n",
    "optimizer = optim.AdamW(cdeit_tiny.parameters(), lr=lr, weight_decay=0.05)\n",
    "warmup_scheduler = optim.lr_scheduler.LinearLR(optimizer, start_factor=1e-3, total_iters=WARMUP_EPOCHS)\n",
    "lr_scheduler = optim.lr_scheduler.CosineAnnealingLR(optimizer, T_max=NUM_EPOCHS - WARMUP_EPOCHS)\n",
    "scheduler = optim.lr_scheduler.SequentialLR(optimizer, schedulers=[warmup_scheduler, lr_scheduler], milestones=[WARMUP_EPOCHS])\n",
    "\n",
    "loss_calculator = LossCalculatorCdeiT(deit3_teacher, HEAD_STRATEGY)\n",
    "\n",
    "augmenter = MyAugments(NUM_CLASSES, mixup_p=MIXUP_P, cutmix_p=0, randaug_p=0, erasing_p=ERASE_P)\n",
    "deit_train_module = TrainTestCdeiT(cdeit_tiny, deit3_teacher, train_loader, test_loader, NUM_IMG_TYPES, device, HEAD_STRATEGY)\n",
    "deit_train_module.train(optimizer, scheduler, augmenter, loss_calculator, \"cdeit_softDistill\", num_epochs=15, print_metrics=True)"
   ]
  }
 ],
 "metadata": {
  "kernelspec": {
   "display_name": "deepLearning",
   "language": "python",
   "name": "python3"
  },
  "language_info": {
   "codemirror_mode": {
    "name": "ipython",
    "version": 3
   },
   "file_extension": ".py",
   "mimetype": "text/x-python",
   "name": "python",
   "nbconvert_exporter": "python",
   "pygments_lexer": "ipython3",
   "version": "3.10.18"
  }
 },
 "nbformat": 4,
 "nbformat_minor": 5
}
