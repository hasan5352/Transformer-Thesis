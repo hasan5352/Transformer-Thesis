{
 "cells": [
  {
   "cell_type": "markdown",
   "id": "c4f574bd",
   "metadata": {},
   "source": [
    "# Data\n",
    "\n",
    "- [Download corrupted Cifar10 .tar](https://zenodo.org/records/2535967) and extract it into a folder.\n",
    "\n",
    "- Cifar10 is downloaded using torch.datasets\n",
    "\n",
    "- [Download corrupted Tiny-ImageNet](https://zenodo.org/records/2536630) and extract it into a folder.\n",
    "\n",
    "- [Download Tiny-ImageNet](https://www.kaggle.com/datasets/akash2sharma/tiny-imagenet) and extract it into a folder."
   ]
  },
  {
   "cell_type": "markdown",
   "id": "390b7c4a",
   "metadata": {},
   "source": [
    "# Imports\n"
   ]
  },
  {
   "cell_type": "code",
   "execution_count": 1,
   "id": "7c1ea522",
   "metadata": {},
   "outputs": [
    {
     "name": "stderr",
     "output_type": "stream",
     "text": [
      "c:\\Users\\Hp\\anaconda3\\envs\\deepLearning\\lib\\site-packages\\tqdm\\auto.py:21: TqdmWarning: IProgress not found. Please update jupyter and ipywidgets. See https://ipywidgets.readthedocs.io/en/stable/user_install.html\n",
      "  from .autonotebook import tqdm as notebook_tqdm\n",
      "c:\\Users\\Hp\\anaconda3\\envs\\deepLearning\\lib\\site-packages\\timm\\models\\layers\\__init__.py:48: FutureWarning: Importing from timm.models.layers is deprecated, please import via timm.layers\n",
      "  warnings.warn(f\"Importing from {__name__} is deprecated, please import via timm.layers\", FutureWarning)\n"
     ]
    }
   ],
   "source": [
    "import torch\n",
    "import torch.nn as nn\n",
    "import torch.nn.functional as F\n",
    "import torch.optim as optim\n",
    "import numpy as np\n",
    "import random\n",
    "from torch.utils.data import DataLoader, TensorDataset\n",
    "import torchvision\n",
    "import torchvision.transforms as T\n",
    "from torchvision.io import read_image\n",
    "import matplotlib.pyplot as plt\n",
    "from PIL import Image\n",
    "import os\n",
    "\n",
    "from utils import load_experimental_TinyImageNet\n",
    "from my_transformers import CorruptDistillVisionTransformer"
   ]
  },
  {
   "cell_type": "markdown",
   "id": "3b2ed7d8",
   "metadata": {},
   "source": [
    "# Loading Data"
   ]
  },
  {
   "cell_type": "code",
   "execution_count": 2,
   "id": "88e413c1",
   "metadata": {},
   "outputs": [],
   "source": [
    "corrupt_types = [\"motion_blur\", \"shot_noise\", \"jpeg_compression\", \"fog\"]\n",
    "\n",
    "# corrupt_path = r\"C:\\Users\\Hp\\Desktop\\Coding\\Transformer-Thesis\\Tiny-ImageNet-C\\Tiny-ImageNet-C\"\n",
    "# normal_path = r\"C:\\Users\\Hp\\Desktop\\Coding\\Transformer-Thesis\\Tiny-ImageNet-Normal\"\n",
    "# train_data, test_data = load_experimental_TinyImageNet(normal_path, corrupt_path, corrupt_types)\n",
    "\n",
    "# torch.save(train_data, \"experiment_train_data.pt\")\n",
    "# torch.save(test_data, \"experiment_test_data.pt\")\n",
    "\n",
    "# train_data = TensorDataset(*torch.load(\"experiment_train_data.pt\", weights_only=True))\n",
    "# test_data = TensorDataset(*torch.load(\"experiment_test_data.pt\", weights_only=True))"
   ]
  },
  {
   "cell_type": "markdown",
   "id": "0b68f313",
   "metadata": {},
   "source": [
    "# Visualisation TinyImageNet"
   ]
  },
  {
   "cell_type": "code",
   "execution_count": null,
   "id": "0d6f8790",
   "metadata": {},
   "outputs": [],
   "source": [
    "def tensor_to_img(tensor):\n",
    "    mean = torch.tensor([0.4802, 0.4481, 0.3975])\n",
    "    std = torch.tensor([0.2302, 0.2265, 0.2262])\n",
    "    \n",
    "    # denormalize\n",
    "    img = tensor.clone()\n",
    "    img = img * std[:, None, None] + mean[:, None, None]\n",
    "    img = torch.clamp(img, 0, 1)\n",
    "    \n",
    "    # convert to PIL image\n",
    "    to_pil = T.ToPILImage()\n",
    "    return to_pil(img)\n",
    "\n",
    "# plot\n",
    "imgs_to_display = [random.randint(0, len(train_data[0])-1) for i in range(9)]\n",
    "fig, axes = plt.subplots(3, 3, figsize=(4, 4))\n",
    "axes = axes.flatten()\n",
    "\n",
    "for i in range(9):\n",
    "    img, label = train_data[0][imgs_to_display[i]], train_data[2][imgs_to_display[i]].item()\n",
    "    img = tensor_to_img(img)\n",
    "    if label == len(corrupt_types):\n",
    "        axes[i].set_title(f\"normal\", fontsize=8)\n",
    "    else:\n",
    "        axes[i].set_title(corrupt_types[label], fontsize=8)\n",
    "    axes[i].imshow(img)\n",
    "    axes[i].axis(\"off\")\n",
    "\n",
    "plt.tight_layout()\n",
    "plt.show()"
   ]
  },
  {
   "cell_type": "markdown",
   "id": "bd8c65ee",
   "metadata": {},
   "source": [
    "# Model config for TinyImageNet"
   ]
  },
  {
   "cell_type": "code",
   "execution_count": 4,
   "id": "63e646c9",
   "metadata": {},
   "outputs": [],
   "source": [
    "# setting seed \n",
    "torch.cuda.manual_seed(22)\n",
    "random.seed(22)\n",
    "torch.manual_seed(22)\n",
    "\n",
    "device = \"cuda\" if torch.cuda.is_available() else \"cpu\"\n",
    "\n",
    "# Hyper-parameters\n",
    "BATCH_SIZE = 128\n",
    "PATCH_SIZE = 8\n",
    "IMG_SIZE = 64\n",
    "EMBED_DIM = 192\n",
    "NUM_HEADS = 3\n",
    "IMG_TYPES = len(corrupt_types)+1\n",
    "NUM_ENCODERS = 12\n",
    "NUM_CLASSES = 200\n",
    "DROPOUT = 0.1\n",
    "DROP_PATH = 0.1\n",
    "ERASE_PROB = 0\n",
    "\n",
    "# train_loader = DataLoader(dataset=train_data, batch_size=BATCH_SIZE, shuffle=True)\n",
    "# test_loader = DataLoader(dataset=test_data, batch_size=BATCH_SIZE, shuffle=False)"
   ]
  },
  {
   "cell_type": "code",
   "execution_count": null,
   "id": "f8606e98",
   "metadata": {},
   "outputs": [],
   "source": [
    "tiny_vit_model = CorruptDistillVisionTransformer(\n",
    "    EMBED_DIM, IMG_SIZE, PATCH_SIZE, NUM_CLASSES, attention_heads=NUM_HEADS,\n",
    "    num_encoders=NUM_ENCODERS, dropout=DROPOUT, drop_path = DROP_PATH, erase_prob=ERASE_PROB,\n",
    "    num_img_types=IMG_TYPES, head_strategy=2\n",
    "    ).to(device)\n",
    "\n",
    "tiny_vit_model.output_head.W"
   ]
  },
  {
   "cell_type": "code",
   "execution_count": null,
   "id": "44b73567",
   "metadata": {},
   "outputs": [],
   "source": []
  },
  {
   "cell_type": "code",
   "execution_count": null,
   "id": "0a3d82f6",
   "metadata": {},
   "outputs": [],
   "source": [
    "\n",
    "\n",
    "    "
   ]
  }
 ],
 "metadata": {
  "kernelspec": {
   "display_name": "deepLearning",
   "language": "python",
   "name": "python3"
  },
  "language_info": {
   "codemirror_mode": {
    "name": "ipython",
    "version": 3
   },
   "file_extension": ".py",
   "mimetype": "text/x-python",
   "name": "python",
   "nbconvert_exporter": "python",
   "pygments_lexer": "ipython3",
   "version": "3.10.18"
  }
 },
 "nbformat": 4,
 "nbformat_minor": 5
}
