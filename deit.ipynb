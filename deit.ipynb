{
 "cells": [
  {
   "cell_type": "code",
   "execution_count": 1,
   "id": "f2026498",
   "metadata": {},
   "outputs": [],
   "source": [
    "import torch\n",
    "import torch.nn as nn\n",
    "import torch.nn.functional as F\n",
    "import torch.optim as optim\n",
    "import numpy as np\n",
    "import random\n",
    "from torch.utils.data import DataLoader, TensorDataset\n",
    "import torchvision\n",
    "import torchvision.transforms as T\n",
    "import os\n",
    "import timm\n",
    "\n",
    "from train_test_module import MyAugments, LossCalculatorDeiT, TrainTestDeiTModule\n",
    "\n",
    "%load_ext autoreload\n",
    "%autoreload 2"
   ]
  },
  {
   "cell_type": "code",
   "execution_count": 2,
   "id": "b3228751",
   "metadata": {},
   "outputs": [],
   "source": [
    "# setting seed \n",
    "torch.cuda.manual_seed(22)\n",
    "random.seed(22)\n",
    "torch.manual_seed(22)\n",
    "\n",
    "device = \"cuda\" if torch.cuda.is_available() else \"cpu\"\n",
    "\n",
    "corrupt_types = [\"brightness\", \"defocus_blur\", \"zoom_blur\", \"motion_blur\", \"fog\", \"frost\", \"snow\", \"shot_noise\", \"gaussian_noise\", \"jpeg_compression\"]\n",
    "\n",
    "# Hyper-parameters\n",
    "PATCH_SIZE = 4\n",
    "IMG_SIZE = 32\n",
    "EMBED_DIM = 192\n",
    "NUM_HEADS = 3\n",
    "NUM_ENCODERS = 12\n",
    "\n",
    "NUM_IMG_TYPES = len(corrupt_types)+1\n",
    "NUM_CLASSES = 10\n",
    "DROPOUT = 0\n",
    "DROP_PATH = 0.1\n",
    "\n",
    "ERASE_P = 0.25\n",
    "RANDAUG_P = 0.5\n",
    "MIXUP_P = 0.3\n",
    "CUTMIX_P = 0.5\n",
    "\n",
    "BATCH_SIZE = 1024\n",
    "NUM_EPOCHS = 50\n",
    "WARMUP_EPOCHS = 3"
   ]
  },
  {
   "cell_type": "code",
   "execution_count": 3,
   "id": "6fba4d9c",
   "metadata": {},
   "outputs": [
    {
     "name": "stderr",
     "output_type": "stream",
     "text": [
      "/tmp/ipykernel_14779/2850057509.py:8: FutureWarning: You are using `torch.load` with `weights_only=False` (the current default value), which uses the default pickle module implicitly. It is possible to construct malicious pickle data which will execute arbitrary code during unpickling (See https://github.com/pytorch/pytorch/blob/main/SECURITY.md#untrusted-models for more details). In a future release, the default value for `weights_only` will be flipped to `True`. This limits the functions that could be executed during unpickling. Arbitrary objects will no longer be allowed to be loaded via this mode unless they are explicitly allowlisted by the user via `torch.serialization.add_safe_globals`. We recommend you start setting `weights_only=True` for any use case where you don't have full control of the loaded file. Please open an issue on GitHub for any issues related to this experimental feature.\n",
      "  deit3_teacher.load_state_dict(torch.load(\"deit3HEAD_all0.pth\"))\n"
     ]
    }
   ],
   "source": [
    "train_loader = DataLoader(dataset=TensorDataset(*torch.load(\"train_cifar10.pt\", weights_only=True)), \n",
    "                                 batch_size=BATCH_SIZE, shuffle=True)\n",
    "test_loader = DataLoader(dataset=TensorDataset(*torch.load(\"test_cifar10.pt\", weights_only=True)), \n",
    "                                 batch_size=BATCH_SIZE, shuffle=False)\n",
    "\n",
    "deit3_teacher = timm.create_model('deit3_small_patch16_224').cuda()\n",
    "deit3_teacher.head = nn.Linear(in_features=384, out_features=NUM_CLASSES, bias=True).cuda()\n",
    "deit3_teacher.load_state_dict(torch.load(\"deit3HEAD_all0.pth\"))\n",
    "\n",
    "from soft_distillation import SoftLossCalculatorDeiT\n",
    "loss_calculator = SoftLossCalculatorDeiT(deit3_teacher, tau=3, alpha=0.5)"
   ]
  },
  {
   "cell_type": "markdown",
   "id": "b635bf7a",
   "metadata": {},
   "source": [
    "# Experiment lr= 5e-4"
   ]
  },
  {
   "cell_type": "code",
   "execution_count": 4,
   "id": "c89e303f",
   "metadata": {},
   "outputs": [],
   "source": [
    "lr = 0.0005  * BATCH_SIZE/512"
   ]
  },
  {
   "cell_type": "code",
   "execution_count": 5,
   "id": "a24e9ce9",
   "metadata": {},
   "outputs": [
    {
     "name": "stderr",
     "output_type": "stream",
     "text": [
      "/venv/main/lib/python3.10/site-packages/timm/models/layers/__init__.py:48: FutureWarning: Importing from timm.models.layers is deprecated, please import via timm.layers\n",
      "  warnings.warn(f\"Importing from {__name__} is deprecated, please import via timm.layers\", FutureWarning)\n"
     ]
    },
    {
     "name": "stdout",
     "output_type": "stream",
     "text": [
      "------- Epoch 1 -------\n",
      "train-loss: 1.235 -- train-acc: 0.144 -- test-loss: 2.188 -- test-acc: 0.213\n",
      "Best model saved to deit_softDistill.pth\n",
      "------- Epoch 2 -------\n",
      "train-loss: 0.970 -- train-acc: 0.430 -- test-loss: 1.166 -- test-acc: 0.611\n",
      "Best model saved to deit_softDistill.pth\n",
      "------- Epoch 3 -------\n"
     ]
    },
    {
     "name": "stderr",
     "output_type": "stream",
     "text": [
      "/venv/main/lib/python3.10/site-packages/torch/optim/lr_scheduler.py:240: UserWarning: The epoch parameter in `scheduler.step()` was not necessary and is being deprecated where possible. Please use `scheduler.step()` to step the scheduler. During the deprecation, if epoch is different from None, the closed form is used instead of the new chainable form, where available. Please open an issue if you are unable to replicate your use case: https://github.com/pytorch/pytorch/issues/new/choose.\n",
      "  warnings.warn(EPOCH_DEPRECATION_WARNING, UserWarning)\n"
     ]
    },
    {
     "name": "stdout",
     "output_type": "stream",
     "text": [
      "train-loss: 0.788 -- train-acc: 0.611 -- test-loss: 0.722 -- test-acc: 0.796\n",
      "Best model saved to deit_softDistill.pth\n",
      "------- Epoch 4 -------\n",
      "train-loss: 0.656 -- train-acc: 0.750 -- test-loss: 0.420 -- test-acc: 0.921\n",
      "Best model saved to deit_softDistill.pth\n",
      "------- Epoch 5 -------\n",
      "train-loss: 0.599 -- train-acc: 0.813 -- test-loss: 0.379 -- test-acc: 0.942\n",
      "Best model saved to deit_softDistill.pth\n",
      "------- Epoch 6 -------\n",
      "train-loss: 0.547 -- train-acc: 0.860 -- test-loss: 0.407 -- test-acc: 0.954\n",
      "------- Epoch 7 -------\n",
      "train-loss: 0.489 -- train-acc: 0.893 -- test-loss: 0.299 -- test-acc: 0.962\n",
      "Best model saved to deit_softDistill.pth\n",
      "------- Epoch 8 -------\n",
      "train-loss: 0.486 -- train-acc: 0.896 -- test-loss: 0.308 -- test-acc: 0.961\n",
      "------- Epoch 9 -------\n",
      "train-loss: 0.471 -- train-acc: 0.905 -- test-loss: 0.247 -- test-acc: 0.963\n",
      "Best model saved to deit_softDistill.pth\n",
      "------- Epoch 10 -------\n",
      "train-loss: 0.466 -- train-acc: 0.910 -- test-loss: 0.256 -- test-acc: 0.966\n",
      "------- Epoch 11 -------\n",
      "train-loss: 0.473 -- train-acc: 0.912 -- test-loss: 0.223 -- test-acc: 0.967\n",
      "Best model saved to deit_softDistill.pth\n",
      "------- Epoch 12 -------\n",
      "train-loss: 0.467 -- train-acc: 0.920 -- test-loss: 0.242 -- test-acc: 0.967\n",
      "------- Epoch 13 -------\n",
      "train-loss: 0.448 -- train-acc: 0.930 -- test-loss: 0.212 -- test-acc: 0.970\n",
      "Best model saved to deit_softDistill.pth\n",
      "------- Epoch 14 -------\n",
      "train-loss: 0.460 -- train-acc: 0.929 -- test-loss: 0.244 -- test-acc: 0.969\n",
      "------- Epoch 15 -------\n",
      "train-loss: 0.454 -- train-acc: 0.927 -- test-loss: 0.244 -- test-acc: 0.968\n",
      "metrics saved!\n"
     ]
    }
   ],
   "source": [
    "from my_transformers import DistillVisionTransformer\n",
    "deit_tiny = DistillVisionTransformer(\n",
    "    EMBED_DIM, IMG_SIZE, PATCH_SIZE, NUM_CLASSES, attention_heads=NUM_HEADS,\n",
    "    num_encoders=NUM_ENCODERS, dropout=0, drop_path=0.1\n",
    "    ).to(device)\n",
    "\n",
    "optimizer = optim.AdamW(deit_tiny.parameters(), lr=lr, weight_decay=0.05)\n",
    "warmup_scheduler = optim.lr_scheduler.LinearLR(optimizer, start_factor=1e-3, total_iters=WARMUP_EPOCHS)\n",
    "lr_scheduler = optim.lr_scheduler.CosineAnnealingLR(optimizer, T_max=NUM_EPOCHS - WARMUP_EPOCHS)\n",
    "scheduler = optim.lr_scheduler.SequentialLR(optimizer, schedulers=[warmup_scheduler, lr_scheduler], milestones=[WARMUP_EPOCHS])\n",
    "\n",
    "augmenter = MyAugments(NUM_CLASSES, mixup_p=MIXUP_P, cutmix_p=0, randaug_p=0, erasing_p=ERASE_P)\n",
    "deit_train_module = TrainTestDeiTModule(deit_tiny, deit3_teacher, train_loader, test_loader, NUM_IMG_TYPES, device)\n",
    "deit_train_module.train(optimizer, scheduler, augmenter, loss_calculator, \"deit_softDistill\", num_epochs=15, print_metrics=True)"
   ]
  }
 ],
 "metadata": {
  "kernelspec": {
   "display_name": "deepLearning",
   "language": "python",
   "name": "python3"
  },
  "language_info": {
   "codemirror_mode": {
    "name": "ipython",
    "version": 3
   },
   "file_extension": ".py",
   "mimetype": "text/x-python",
   "name": "python",
   "nbconvert_exporter": "python",
   "pygments_lexer": "ipython3",
   "version": "3.10.18"
  }
 },
 "nbformat": 4,
 "nbformat_minor": 5
}
